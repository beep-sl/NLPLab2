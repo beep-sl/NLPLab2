{
 "cells": [
  {
   "cell_type": "code",
   "execution_count": 1,
   "id": "189e5f7c",
   "metadata": {},
   "outputs": [],
   "source": [
    "import re\n",
    "import os\n",
    "import sys\n",
    "import pandas as pd"
   ]
  },
  {
   "cell_type": "code",
   "execution_count": 2,
   "id": "493511fa",
   "metadata": {},
   "outputs": [],
   "source": [
    "def normalizeDate(inMonth, inDay, inYear):\n",
    "    returnDate = ''\n",
    "    \n",
    "    # Parse inMonth\n",
    "    if inMonth == 'Jan' or inMonth == 'January':\n",
    "        returnDate += '01/'\n",
    "    elif inMonth == 'Feb' or inMonth == 'February':\n",
    "        returnDate += '02/'\n",
    "    elif inMonth == 'Mar' or inMonth == 'March':\n",
    "        returnDate += '03/'\n",
    "    elif inMonth == 'Apr' or inMonth == 'April':\n",
    "        returnDate += '04/'\n",
    "    elif inMonth == 'May':\n",
    "        returnDate += '05/'\n",
    "    elif inMonth == 'Jun' or inMonth == 'June':\n",
    "        returnDate += '06/'\n",
    "    elif inMonth == 'Jul' or inMonth == 'July':\n",
    "        returnDate += '07/'\n",
    "    elif inMonth == 'Aug' or inMonth == 'August':\n",
    "        returnDate += '08/'\n",
    "    elif inMonth == 'Sept' or inMonth == 'September':\n",
    "        returnDate += '09/'\n",
    "    elif inMonth == 'Oct' or inMonth == 'October':\n",
    "        returnDate += '10/'\n",
    "    elif inMonth == 'Nov' or inMonth == 'November':\n",
    "        returnDate += '11/'\n",
    "    elif inMonth == 'Dec' or inMonth == 'December':\n",
    "        returnDate += '12/'\n",
    "        \n",
    "    # Parse inDay\n",
    "    \n",
    "    # inDay will be null if our format is month year, replace with X's\n",
    "    if inDay == False:\n",
    "        returnDate += 'XX/'\n",
    "    else:\n",
    "        if 'st' in inDay:\n",
    "            inDay = inDay.replace('st', '')\n",
    "\n",
    "        if 'th' in inDay:\n",
    "            inDay = inDay.replace('th', '')\n",
    "\n",
    "        if int(inDay) > 0 and int(inDay) < 10:\n",
    "            returnDate += ('0' + inDay + '/')\n",
    "        elif int(inDay) > 10:\n",
    "            returnDate += (inDay + '/')\n",
    "        \n",
    "    # Parse inYear\n",
    "    \n",
    "    # inYear will be null if our format is not month year, replace with X's\n",
    "    if inYear == False:\n",
    "        returnDate += 'XXXX'\n",
    "    else:\n",
    "        returnDate += inYear\n",
    "    \n",
    "    return returnDate"
   ]
  },
  {
   "cell_type": "code",
   "execution_count": 3,
   "id": "82df0bc5",
   "metadata": {},
   "outputs": [],
   "source": [
    "def extractDate(temporalString):\n",
    "    # Match Month - Number format\n",
    "    moNumMatch = re.search('(Jan|January)\\s([1-9][0-9]?)[^0-9]|' +\n",
    "                           '(Feb|February)\\s([1-9][0-9]?)[^0-9]|' +\n",
    "                           '(Mar|March)\\s([1-9][0-9]?)[^0-9]|' +\n",
    "                           '(Apr|April)\\s([1-9][0-9]?)[^0-9]|' +\n",
    "                           'May\\s([1-9][0-9]?)[^0-9]|' +\n",
    "                           '(Jun|June)\\s([1-9][0-9]?)[^0-9]|' +\n",
    "                           '(Jul|July)\\s([1-9][0-9]?)[^0-9]|' + \n",
    "                           '(Aug|August)\\s([1-9][0-9]?)[^0-9]|' +\n",
    "                           '(Sept|September)\\s([1-9][0-9]?)[^0-9]|' +\n",
    "                           '(Oct|October)\\s([1-9][0-9]?)[^0-9]|' +\n",
    "                           '(Nov|November)\\s([1-9][0-9]?)[^0-9]|' +\n",
    "                           '(Dec|December)\\s([1-9][0-9]?)[^0-9]', temporalString)\n",
    "    if moNumMatch is not None:\n",
    "        monthNumber = moNumMatch.group(0)\n",
    "        month = re.search('Jan|January|Feb|February|Mar|March|' +\n",
    "                          'Apr|April|May|Jun|June|Jul|July|' +\n",
    "                          'Aug|August|Sept|September|Oct|October|' +\n",
    "                          'Nov|November|Dec|December', monthNumber).group(0)\n",
    "        day = re.search('[1-9][0-9]?', monthNumber).group(0)\n",
    "        dateNormalized = normalizeDate(month, day, inYear=False)\n",
    "        return dateNormalized\n",
    "    \n",
    "    # Match Number - Month format\n",
    "    numMoMatch = re.search('([1-9][0-9]?)\\s(Jan|January)|' +\n",
    "                           '([1-9][0-9]?)\\s(Feb|February)|' +\n",
    "                           '([1-9][0-9]?)\\s(Mar|March)|' +\n",
    "                           '([1-9][0-9]?)\\s(Apr|April)|' +\n",
    "                           '([1-9][0-9]?)\\sMay|' +\n",
    "                           '([1-9][0-9]?)\\s(Jun|June)|' +\n",
    "                           '([1-9][0-9]?)\\s(Jul|July)|' +\n",
    "                           '([1-9][0-9]?)\\s(Aug|August)|' +\n",
    "                           '([1-9][0-9]?)\\s(Sept|September)|' +\n",
    "                           '([1-9][0-9]?)\\s(Oct|October)|' +\n",
    "                           '([1-9][0-9]?)\\s(Nov|November)|' +\n",
    "                           '([1-9][0-9]?)\\s(Dec|December)', temporalString)\n",
    "    if numMoMatch is not None:\n",
    "        numberMonth = numMoMatch.group(0)\n",
    "        #try:\n",
    "        month = re.search('Jan|January|Feb|February|Mar|March|' +\n",
    "                          'Apr|April|May|Jun|June|Jul|July|' +\n",
    "                          'Aug|August|Sept|September|Oct|October|' +\n",
    "                          'Nov|November|Dec|December', numberMonth).group(0)\n",
    "        #except Exception:\n",
    "        #    print(\"Violating string: \" + numberMonth)\n",
    "        day = re.search('[1-9][0-9]?', numberMonth).group(0)\n",
    "        dateNormalized = normalizeDate(month, day, inYear=False)\n",
    "        return dateNormalized\n",
    "    \n",
    "    # Match Month - Year format\n",
    "    moYearMatch = re.search('(Jan|January)\\s([1-9][0-9]{3})|' +\n",
    "                            '(Feb|February)\\s([1-9][0-9]{3})|' +\n",
    "                            '(Mar|March)\\s([1-9][0-9]{3})|' +\n",
    "                            '(Apr|April)\\s([1-9][0-9]{3})|' +\n",
    "                            ' May\\s([1-9][0-9]{3})|' +\n",
    "                            '(Jun|June)\\s([1-9][0-9]{3})|' +\n",
    "                            '(Jul|July)\\s([1-9][0-9]{3})|' +\n",
    "                            '(Aug|August)\\s([1-9][0-9]{3})|' +\n",
    "                            '(Sept|September)\\s([1-9][0-9]{3})|' +\n",
    "                            '(Oct|October)\\s([1-9][0-9]{3})|' +\n",
    "                            '(Nov|November)\\s([1-9][0-9]{3})|' +\n",
    "                            '(Dec|December)\\s([1-9][0-9]{3})', temporalString)\n",
    "    if moYearMatch is not None:\n",
    "        monthYear = moYearMatch.group(0)\n",
    "        month = re.search('Jan|January|Feb|February|Mar|March|' +\n",
    "                          'Apr|April|May|Jun|June|Jul|July|' +\n",
    "                          'Aug|August|Sept|September|Oct|October|' +\n",
    "                          'Nov|November|Dec|December', monthYear).group(0)\n",
    "        year = re.search('[1-9][0-9]{3}', monthYear).group(0)\n",
    "        dateNormalized = normalizeDate(month, inDay=False, inYear=year)\n",
    "        return dateNormalized\n",
    "    return False"
   ]
  },
  {
   "cell_type": "markdown",
   "id": "cd1214b2",
   "metadata": {},
   "source": [
    "# Test using a test string"
   ]
  },
  {
   "cell_type": "code",
   "execution_count": 4,
   "id": "9576cf5e",
   "metadata": {},
   "outputs": [],
   "source": [
    "numberMonth = \"It is 15 January today\"\n",
    "monthNumber =\"It is January 15 today\"\n",
    "monthYear = \"It is January 2023\""
   ]
  },
  {
   "cell_type": "code",
   "execution_count": 5,
   "id": "e92e439f",
   "metadata": {},
   "outputs": [
    {
     "name": "stdout",
     "output_type": "stream",
     "text": [
      "01/15/XXXX\n"
     ]
    }
   ],
   "source": [
    "date = extractDate(numberMonth)\n",
    "print(date)"
   ]
  },
  {
   "cell_type": "code",
   "execution_count": 6,
   "id": "b8b4d600",
   "metadata": {},
   "outputs": [
    {
     "name": "stdout",
     "output_type": "stream",
     "text": [
      "01/15/XXXX\n"
     ]
    }
   ],
   "source": [
    "date = extractDate(monthNumber)\n",
    "print(date)"
   ]
  },
  {
   "cell_type": "code",
   "execution_count": 7,
   "id": "ef156af7",
   "metadata": {},
   "outputs": [
    {
     "name": "stdout",
     "output_type": "stream",
     "text": [
      "01/XX/2023\n"
     ]
    }
   ],
   "source": [
    "date = extractDate(monthYear)\n",
    "print(date)"
   ]
  },
  {
   "cell_type": "markdown",
   "id": "da3af56c",
   "metadata": {},
   "source": [
    "# Parse dates for given dataset"
   ]
  },
  {
   "cell_type": "code",
   "execution_count": 8,
   "id": "bfc01f2f",
   "metadata": {},
   "outputs": [],
   "source": [
    "# Empty list to load path - date pairs\n",
    "pairs = []\n",
    "\n",
    "# Starting point for file traversal\n",
    "originalPath = \"/Users/stephenlanna/Documents/NLP/Lab2/txt/\"\n",
    "\n",
    "# Change directory\n",
    "os.chdir(originalPath)\n",
    "\n",
    "# Function to parse .txt files. Takes in a path, calls extractDate(),\n",
    "# creates a new path - date pair.\n",
    "def parseTxtFile(file_path):\n",
    "    # Open .txt file\n",
    "    with open(file_path, 'r') as f:\n",
    "        # Read .txt file to string\n",
    "        data = f.read()\n",
    "        \n",
    "        # Extract date\n",
    "        date = extractDate(data)\n",
    "        if not date:\n",
    "            pair = [file_path, \"None found\"]\n",
    "        else:\n",
    "            pair = [file_path, date]\n",
    "    f.close()\n",
    "    pairs.append(pair)\n",
    "  \n",
    "# Iterate through all files\n",
    "for file in os.listdir():\n",
    "    # This is a Mac file I'm encountering, skip these\n",
    "    if file != \".DS_Store\":\n",
    "        newPath = originalPath + file + \"/input_docs/\"\n",
    "        os.chdir(newPath)\n",
    "        for filename in os.scandir(newPath):\n",
    "            # Skip Mac file again\n",
    "            if filename.name != \".DS_Store\":\n",
    "                datePath = newPath + filename.name + \"/\"\n",
    "                os.chdir(datePath)\n",
    "                for txtfile in os.scandir(datePath):\n",
    "                    txtPath = datePath + txtfile.name\n",
    "                    \n",
    "                    # We've reached our .txt file, parse it\n",
    "                    parseTxtFile(txtPath)\n",
    "        os.chdir(newPath)\n",
    "        "
   ]
  },
  {
   "cell_type": "code",
   "execution_count": 9,
   "id": "d72fe595",
   "metadata": {},
   "outputs": [
    {
     "data": {
      "text/html": [
       "<div>\n",
       "<style scoped>\n",
       "    .dataframe tbody tr th:only-of-type {\n",
       "        vertical-align: middle;\n",
       "    }\n",
       "\n",
       "    .dataframe tbody tr th {\n",
       "        vertical-align: top;\n",
       "    }\n",
       "\n",
       "    .dataframe thead th {\n",
       "        text-align: right;\n",
       "    }\n",
       "</style>\n",
       "<table border=\"1\" class=\"dataframe\">\n",
       "  <thead>\n",
       "    <tr style=\"text-align: right;\">\n",
       "      <th></th>\n",
       "      <th>Path</th>\n",
       "      <th>Date</th>\n",
       "    </tr>\n",
       "  </thead>\n",
       "  <tbody>\n",
       "    <tr>\n",
       "      <th>0</th>\n",
       "      <td>/Users/stephenlanna/Documents/NLP/Lab2/txt/ind...</td>\n",
       "      <td>None found</td>\n",
       "    </tr>\n",
       "    <tr>\n",
       "      <th>1</th>\n",
       "      <td>/Users/stephenlanna/Documents/NLP/Lab2/txt/ind...</td>\n",
       "      <td>07/04/XXXX</td>\n",
       "    </tr>\n",
       "    <tr>\n",
       "      <th>2</th>\n",
       "      <td>/Users/stephenlanna/Documents/NLP/Lab2/txt/ind...</td>\n",
       "      <td>05/27/XXXX</td>\n",
       "    </tr>\n",
       "    <tr>\n",
       "      <th>3</th>\n",
       "      <td>/Users/stephenlanna/Documents/NLP/Lab2/txt/ind...</td>\n",
       "      <td>None found</td>\n",
       "    </tr>\n",
       "    <tr>\n",
       "      <th>4</th>\n",
       "      <td>/Users/stephenlanna/Documents/NLP/Lab2/txt/ind...</td>\n",
       "      <td>None found</td>\n",
       "    </tr>\n",
       "  </tbody>\n",
       "</table>\n",
       "</div>"
      ],
      "text/plain": [
       "                                                Path        Date\n",
       "0  /Users/stephenlanna/Documents/NLP/Lab2/txt/ind...  None found\n",
       "1  /Users/stephenlanna/Documents/NLP/Lab2/txt/ind...  07/04/XXXX\n",
       "2  /Users/stephenlanna/Documents/NLP/Lab2/txt/ind...  05/27/XXXX\n",
       "3  /Users/stephenlanna/Documents/NLP/Lab2/txt/ind...  None found\n",
       "4  /Users/stephenlanna/Documents/NLP/Lab2/txt/ind...  None found"
      ]
     },
     "execution_count": 9,
     "metadata": {},
     "output_type": "execute_result"
    }
   ],
   "source": [
    "# Create a DataFrame with path - date pairs\n",
    "parsedDates = pd.DataFrame(pairs, columns=['Path', 'Date'])\n",
    "parsedDates.head()"
   ]
  }
 ],
 "metadata": {
  "kernelspec": {
   "display_name": "Python 3 (ipykernel)",
   "language": "python",
   "name": "python3"
  },
  "language_info": {
   "codemirror_mode": {
    "name": "ipython",
    "version": 3
   },
   "file_extension": ".py",
   "mimetype": "text/x-python",
   "name": "python",
   "nbconvert_exporter": "python",
   "pygments_lexer": "ipython3",
   "version": "3.9.7"
  }
 },
 "nbformat": 4,
 "nbformat_minor": 5
}
